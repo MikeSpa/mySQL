{
 "cells": [
  {
   "cell_type": "code",
   "execution_count": 129,
   "metadata": {},
   "outputs": [
    {
     "name": "stdout",
     "output_type": "stream",
     "text": [
      "***The connection pool is created with a name:  pool_b\n",
      "***The pool size is: 2\n",
      "***Getting a connection from the pool.\n",
      "**Database created\n",
      "***The cursor is closed.\n",
      "***MySQL connection is closed.\n"
     ]
    }
   ],
   "source": [
    "from mysql.connector.pooling import MySQLConnectionPool\n",
    "from mysql.connector import Error\n",
    "import mysql.connector as connector\n",
    "\n",
    "\n",
    "\n",
    "%reload_ext dotenv\n",
    "%dotenv\n",
    "import os\n",
    "# load the database password from an .env file\n",
    "db_pass = os.getenv(\"DB_PASS\")\n",
    "\n",
    "dbconfig = {\n",
    "    \"database\":\"little_lemon_db\",\n",
    "    \"user\" : \"root\",\n",
    "    \"password\" : db_pass\n",
    "}\n",
    "\n",
    "try:\n",
    "    pool = MySQLConnectionPool(pool_name = \"pool_b\",\n",
    "                           pool_size = 2,\n",
    "                           **dbconfig)\n",
    "    print(\"***The connection pool is created with a name: \",pool.pool_name)\n",
    "    print(\"***The pool size is:\",pool.pool_size)\n",
    "except:\n",
    "    print(\"***No more connections are available.\")\n",
    "    print(\"***Adding new connection in the pool.\")\n",
    "    \n",
    "    # Create a connection\n",
    "    connection=connector.connect(user=\"root\",password=db_pass)\n",
    "    # Add the connection into the pool\n",
    "    pool.add_connection(cnx=connection)\n",
    "    print(\"***A new connection is added in the pool.\\n\")\n",
    "    \n",
    "    user_connected = pool.get_connection()\n",
    "\n",
    "\n",
    "print(\"***Getting a connection from the pool.\")\n",
    "connection1 = pool.get_connection()\n",
    "\n",
    "cursor = connection1.cursor()\n",
    "\n",
    "cursor.execute(\"CREATE DATABASE IF NOT EXISTS little_lemon_db\") \n",
    "print(\"**Database created\")\n",
    "cursor.execute(\"USE little_lemon_db\")\n",
    "if connection1.is_connected():\n",
    "    cursor.close()\n",
    "    print(\"***The cursor is closed.\")\n",
    "    connection1.close()\n",
    "    print(\"***MySQL connection is closed.\")\n",
    "else:\n",
    "    print(\"***Connection is already closed\")"
   ]
  },
  {
   "cell_type": "code",
   "execution_count": 130,
   "metadata": {},
   "outputs": [
    {
     "name": "stdout",
     "output_type": "stream",
     "text": [
      "**Booking inserted\n",
      "**Booking inserted\n",
      "***A new connection is added in the pool.\n",
      "\n",
      "**Booking inserted\n",
      "***The cursor is closed.\n",
      "***MySQL connection is closed.\n",
      "***The cursor is closed.\n",
      "***MySQL connection is closed.\n"
     ]
    }
   ],
   "source": [
    "# Task 2\n",
    "## Guest 1\n",
    "connection1 = pool.get_connection()\n",
    "cursor = connection1.cursor()\n",
    "\n",
    "insert_bookings=\"\"\"\n",
    "REPLACE INTO Bookings (BookingID, TableNo, GuestFirstName, \n",
    "GuestLastName, BookingSlot, EmployeeID)\n",
    "VALUES\n",
    "(7, 8, 'Anees','Java','18:00:00',6);\"\"\"\n",
    "\n",
    "# Populate Bookings table\n",
    "cursor.execute(insert_bookings)\n",
    "connection1.commit()\n",
    "print(\"**Booking inserted\")\n",
    "\n",
    "## Guest 2\n",
    "connection2 = pool.get_connection()\n",
    "cursor = connection1.cursor()\n",
    "insert_bookings=\"\"\"\n",
    "REPLACE INTO Bookings (BookingID, TableNo, GuestFirstName, \n",
    "GuestLastName, BookingSlot, EmployeeID)\n",
    "VALUES\n",
    "(8, 5, 'Bald', 'Vin', '19:00:00', 6);\"\"\"\n",
    "\n",
    "# Populate Bookings table\n",
    "cursor.execute(insert_bookings)\n",
    "connection2.commit()\n",
    "print(\"**Booking inserted\")\n",
    "\n",
    "\n",
    "## Guest 3\n",
    "connection=connector.connect(user=\"root\",password=db_pass)\n",
    "# Add the connection into the pool\n",
    "pool.add_connection(cnx=connection)\n",
    "print(\"***A new connection is added in the pool.\\n\")\n",
    "\n",
    "connection3 = pool.get_connection()\n",
    "cursor = connection1.cursor()\n",
    "insert_bookings=\"\"\"\n",
    "REPLACE INTO Bookings (BookingID, TableNo, GuestFirstName, \n",
    "GuestLastName, BookingSlot, EmployeeID)\n",
    "VALUES\n",
    "(9, 12, 'Jay', 'Kon', '19:30:00', 6);\"\"\"\n",
    "\n",
    "# Populate Bookings table\n",
    "cursor.execute(insert_bookings)\n",
    "connection3.commit()\n",
    "print(\"**Booking inserted\")\n",
    "\n",
    "# Return connection\n",
    "for connection in [connection1,connection2]:\n",
    "    if connection.is_connected():\n",
    "        cursor.close()\n",
    "        print(\"***The cursor is closed.\")\n",
    "        connection.close()\n",
    "        print(\"***MySQL connection is closed.\")\n",
    "    else:\n",
    "        print(\"***Connection is already closed\")"
   ]
  },
  {
   "cell_type": "code",
   "execution_count": 131,
   "metadata": {},
   "outputs": [
    {
     "name": "stdout",
     "output_type": "stream",
     "text": [
      "***Getting a connection from the pool.\n",
      "Data retrieved:\n",
      "('Name', 'EmployeeID')\n",
      "('Mario Gollini', 1)\n"
     ]
    }
   ],
   "source": [
    "# Task3\n",
    "print(\"***Getting a connection from the pool.\")\n",
    "connection1 = pool.get_connection()\n",
    "cursor = connection1.cursor()\n",
    "\n",
    "# Query to retrieve all bookings is: \n",
    "manager_query = \"\"\"SELECT Name, EmployeeID FROM Employees WHERE ROLE = \"Manager\";\"\"\"\n",
    "\n",
    "# Execute query \n",
    "cursor.execute(manager_query)\n",
    "\n",
    "# Fetch fist 3 records in results\n",
    "results = cursor.fetchmany(size=3)\n",
    "cursor.close()\n",
    "\n",
    "# Retrieve column names\n",
    "cols = cursor.column_names\n",
    "\n",
    "# Print column names and records from results using for loop\n",
    "print(\"Data retrieved:\")\n",
    "print(cols)\n",
    "manager = results[0]\n",
    "for result in results:\n",
    "    print(result)"
   ]
  },
  {
   "cell_type": "code",
   "execution_count": 132,
   "metadata": {},
   "outputs": [
    {
     "name": "stdout",
     "output_type": "stream",
     "text": [
      "Data retrieved:\n",
      "('Name', 'Role')\n",
      "('Mario Gollini', 'Manager')\n"
     ]
    }
   ],
   "source": [
    "# Task3\n",
    "# Query to retrieve all bookings is: \n",
    "sal_query = \"\"\"SELECT Name, Role FROM Employees ORDER BY Annual_Salary DESC LIMIT 1;\"\"\"\n",
    "\n",
    "# Execute query \n",
    "cursor = connection1.cursor()\n",
    "cursor.execute(sal_query)\n",
    "\n",
    "# Fetch fist 3 records in results\n",
    "results = cursor.fetchmany(size=3)\n",
    "cursor.close()\n",
    "\n",
    "# Retrieve column names\n",
    "cols = cursor.column_names\n",
    "\n",
    "# Print column names and records from results using for loop\n",
    "print(\"Data retrieved:\")\n",
    "print(cols)\n",
    "highest_salary = results[0]\n",
    "for result in results:\n",
    "    print(result)"
   ]
  },
  {
   "cell_type": "code",
   "execution_count": 133,
   "metadata": {},
   "outputs": [
    {
     "name": "stdout",
     "output_type": "stream",
     "text": [
      "Data retrieved:\n",
      "('COUNT(*)',)\n",
      "(7,)\n"
     ]
    }
   ],
   "source": [
    "# Task3\n",
    "# Query to retrieve all bookings is: \n",
    "guest_query = \"\"\"SELECT COUNT(*) FROM Bookings WHERE HOUR(BookingSlot) BETWEEN 18 AND 20;\"\"\"\n",
    "\n",
    "# Execute query \n",
    "cursor = connection1.cursor()\n",
    "cursor.execute(guest_query)\n",
    "\n",
    "# Fetch fist 3 records in results\n",
    "results = cursor.fetchall()\n",
    "cursor.close()\n",
    "\n",
    "# Retrieve column names\n",
    "cols = cursor.column_names\n",
    "\n",
    "# Print column names and records from results using for loop\n",
    "print(\"Data retrieved:\")\n",
    "print(cols)\n",
    "num_guest = results[0]\n",
    "for result in results:\n",
    "    print(result)"
   ]
  },
  {
   "cell_type": "code",
   "execution_count": 134,
   "metadata": {},
   "outputs": [
    {
     "name": "stdout",
     "output_type": "stream",
     "text": [
      "Data retrieved:\n",
      "(\"CONCAT(GuestFirstName, ' ', GuestLastName)\", 'BookingID')\n",
      "('Anees Java', 7)\n",
      "('Bald Vin', 8)\n",
      "('Jay Kon', 9)\n"
     ]
    }
   ],
   "source": [
    "# Task3\n",
    "# Query to retrieve all bookings is: \n",
    "waiting_query = \"\"\"\n",
    "SELECT CONCAT(GuestFirstName, ' ', GuestLastName), \n",
    "BookingID \n",
    "FROM Bookings\n",
    "WHERE EmployeeID = 6\n",
    "ORDER BY BookingSlot;\"\"\"\n",
    "\n",
    "# Execute query \n",
    "cursor = connection1.cursor()\n",
    "cursor.execute(waiting_query)\n",
    "\n",
    "# Fetch fist 3 records in results\n",
    "results = cursor.fetchall()\n",
    "cursor.close()\n",
    "\n",
    "# Retrieve column names\n",
    "cols = cursor.column_names\n",
    "\n",
    "# Print column names and records from results using for loop\n",
    "print(\"Data retrieved:\")\n",
    "waiting = results\n",
    "print(cols)\n",
    "for result in results:\n",
    "    print(result)"
   ]
  },
  {
   "cell_type": "code",
   "execution_count": 135,
   "metadata": {},
   "outputs": [
    {
     "name": "stdout",
     "output_type": "stream",
     "text": [
      "Report:\n",
      "Manager: Mario Gollini, Id: 1\n",
      "Highest salary: Name: Mario Gollini, Role: Manager\n",
      "Number of guest booked between 18 and 20: 7\n",
      "Waiting Guest:\n",
      "\tName: Anees Java, Bookingslot: 7\n",
      "\tName: Bald Vin, Bookingslot: 8\n",
      "\tName: Jay Kon, Bookingslot: 9\n"
     ]
    }
   ],
   "source": [
    "# Report task 3\n",
    "print(\"Report:\")\n",
    "print(f\"Manager: {manager[0]}, Id: {manager[1]}\")\n",
    "print(f\"Highest salary: Name: {highest_salary[0]}, Role: {highest_salary[1]}\")\n",
    "print(f\"Number of guest booked between 18 and 20: {num_guest[0]}\")\n",
    "print(f\"Waiting Guest:\")\n",
    "for i in range(3):\n",
    "    print(f\"\\tName: {waiting[i][0]}, Bookingslot: {waiting[i][1]}\")"
   ]
  },
  {
   "cell_type": "code",
   "execution_count": 136,
   "metadata": {},
   "outputs": [
    {
     "name": "stdout",
     "output_type": "stream",
     "text": [
      "Sales report: Total: 243, Average: 48.60, Min: 37, Max: 86,\n",
      "***The cursor is closed.\n",
      "***MySQL connection is closed.\n"
     ]
    }
   ],
   "source": [
    "# Task4\n",
    "# Query to retrieve all bookings is: \n",
    "stored_procedure_query=\"\"\"\n",
    "CREATE PROCEDURE IF NOT EXISTS BasicSalesReport()\n",
    "\n",
    "BEGIN\n",
    "\n",
    "SELECT SUM(BillAmount), AVG(BillAmount), MIN(BillAmount), Max(BillAmount)\n",
    "FROM Orders;\n",
    "\n",
    "END\n",
    "\n",
    "\"\"\"\n",
    "\n",
    "# Execute the query\n",
    "cursor = connection1.cursor()\n",
    "cursor.execute(stored_procedure_query)\n",
    "\n",
    "#********************************************#\n",
    "\n",
    "# Call the stored procedure with its name\n",
    "cursor.callproc(\"BasicSalesReport\")\n",
    "cursor.execute(\"DROP PROCEDURE IF EXISTS BasicSalesReport;\")\n",
    "\n",
    "# Retrieve recrods in \"dataset\"\n",
    "results = next( cursor.stored_results() )\n",
    "dataset = results.fetchall()\n",
    "cursor.close()\n",
    "# Retrieve column names using list comprehension in a 'for' loop \n",
    "for column_id in cursor.stored_results():\n",
    "    columns = [ column[0] for column in column_id.description ]\n",
    "\n",
    "\n",
    "\n",
    "# Print data \n",
    "for data in dataset:\n",
    "    print(f\"Sales report: Total: {data[0]}, Average: {round(data[1],2)}, Min: {data[2]}, Max: {data[3]},\")\n",
    "\n",
    "if connection1.is_connected():\n",
    "    cursor.close()\n",
    "    print(\"***The cursor is closed.\")\n",
    "    connection1.close()\n",
    "    print(\"***MySQL connection is closed.\")\n",
    "else:\n",
    "    print(\"***Connection is already closed\")\n"
   ]
  },
  {
   "cell_type": "code",
   "execution_count": 137,
   "metadata": {},
   "outputs": [
    {
     "name": "stdout",
     "output_type": "stream",
     "text": [
      "***Getting connection\n",
      "***Cursor created\n",
      "\n",
      "Kitchen Screen:\n",
      "BookingSlot: 15:00:00\n",
      "\tGuest Name: Vanessa McCarthy\n",
      "\tAssigned to: Giorgos Dioudis [Head Chef]\n",
      "\n",
      "\n",
      "BookingSlot: 17:30:00\n",
      "\tGuest Name: Marcos Romero\n",
      "\tAssigned to: Fatma Kaya [Assistant Chef]\n",
      "\n",
      "\n",
      "BookingSlot: 18:00:00\n",
      "\tGuest Name: Anees Java\n",
      "\tAssigned to: John Millar [Receptionist]\n",
      "\n",
      "\n",
      "***The cursor is closed.\n",
      "***MySQL connection is closed.\n"
     ]
    }
   ],
   "source": [
    "# Task 5\n",
    "print(\"***Getting connection\")\n",
    "connection2 = pool.get_connection()\n",
    "\n",
    "cursor = connection2.cursor(buffered = True)\n",
    "print(\"***Cursor created\")\n",
    "\n",
    "\n",
    "query = \"\"\"\n",
    "SELECT BookingSlot, CONCAT(GuestFirstName, ' ', GuestLastName), Name, Role\n",
    "FROM Bookings LEFT JOIN Employees  \n",
    "ON Bookings.EmployeeID = Employees.EmployeeID\n",
    "ORDER BY BookingSlot ASC\n",
    "LIMIT 3;\n",
    "\"\"\"\n",
    "\n",
    "cursor.execute(query)\n",
    "\n",
    "results = cursor.fetchall()\n",
    "cursor.close()\n",
    "\n",
    "# Retrieve column names\n",
    "cols = cursor.column_names\n",
    "\n",
    "# Print column names and records from results using for loop\n",
    "print(\"\"\"\\nKitchen Screen:\"\"\")\n",
    "for result in results:\n",
    "    print(f\"BookingSlot: {result[0]}\")\n",
    "    print(f\"\\tGuest Name: {result[1]}\")\n",
    "    print(f\"\\tAssigned to: {result[2]} [{result[3]}]\")\n",
    "    print(\"\\n\")\n",
    "\n",
    "# Closing connection\n",
    "if connection2.is_connected():\n",
    "    cursor.close()\n",
    "    print(\"***The cursor is closed.\")\n",
    "    connection2.close()\n",
    "    print(\"***MySQL connection is closed.\")\n",
    "else:\n",
    "    print(\"***Connection is already closed\")"
   ]
  }
 ],
 "metadata": {
  "kernelspec": {
   "display_name": "Python 3",
   "language": "python",
   "name": "python3"
  },
  "language_info": {
   "codemirror_mode": {
    "name": "ipython",
    "version": 3
   },
   "file_extension": ".py",
   "mimetype": "text/x-python",
   "name": "python",
   "nbconvert_exporter": "python",
   "pygments_lexer": "ipython3",
   "version": "3.8.10"
  },
  "orig_nbformat": 4
 },
 "nbformat": 4,
 "nbformat_minor": 2
}
