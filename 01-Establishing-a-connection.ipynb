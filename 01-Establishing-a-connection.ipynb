{
 "cells": [
  {
   "attachments": {},
   "cell_type": "markdown",
   "metadata": {},
   "source": [
    "# Establishing a connection"
   ]
  },
  {
   "attachments": {},
   "cell_type": "markdown",
   "metadata": {},
   "source": [
    "\n",
    "## Prerequisites: \n",
    "\n",
    "Need to install Python and MySQL databases. Then install `MySQL Connector/Python` client or API on your Python environment.\n",
    "\n",
    "To work with MySQL using Python, you must have an authorized user account on the MySQL server.   "
   ]
  },
  {
   "attachments": {},
   "cell_type": "markdown",
   "metadata": {},
   "source": [
    "Note: Need to install mysql-connector-python package to run your code. "
   ]
  },
  {
   "cell_type": "code",
   "execution_count": 42,
   "metadata": {},
   "outputs": [],
   "source": [
    "# uncomment to install\n",
    "# !pip install mysql-connector-python"
   ]
  },
  {
   "cell_type": "code",
   "execution_count": 43,
   "metadata": {},
   "outputs": [],
   "source": [
    "%reload_ext dotenv\n",
    "%dotenv\n",
    "import os\n",
    "# load the database password from an .env file\n",
    "db_pass = os.getenv(\"DB_PASSWORD\")"
   ]
  },
  {
   "attachments": {},
   "cell_type": "markdown",
   "metadata": {},
   "source": [
    "Establishing a connection to their MySQL database using Python, via MySQL Connector/Python API.\n",
    "To achieve this task please fill in the following steps: \n",
    "\n",
    "* 1: import the appropriate MySQL connector library using the alias connector \n",
    "\n",
    "* 2: Next, create a variable called connection and use it to store an instance of the connection made with the database using the connector module. This module uses a method called connect() and you should provide the relevant connection details.  \n",
    "\n",
    " \n",
    "\n",
    "**TIP:** You need to have an authenticated username and password to establish the connection. If you don’t see any error in the output while establishing the connection, your connection is successfully established. "
   ]
  },
  {
   "cell_type": "code",
   "execution_count": 44,
   "metadata": {},
   "outputs": [
    {
     "name": "stdout",
     "output_type": "stream",
     "text": [
      "MySQL Connector/Python API is imported successfully.\n",
      "\n",
      "Establishing a new connection between MySQL and Python.\n",
      "A connection between MySQL and Python is successfully established\n"
     ]
    }
   ],
   "source": [
    "# Import MySQL Connector/Python \n",
    "import mysql.connector as connector\n",
    "print(\"MySQL Connector/Python API is imported successfully.\\n\")\n",
    "\n",
    "\n",
    "try:\n",
    "    print(\"Establishing a new connection between MySQL and Python.\")\n",
    "    connection=connector.connect(user=\"root\",password=db_pass)\n",
    "    print(\"A connection between MySQL and Python is successfully established\")\n",
    "\n",
    "except connector.Error as er:\n",
    "    print(\"Error code:\", er.errno)\n",
    "    print(\"Error message:\", er.msg)"
   ]
  },
  {
   "cell_type": "code",
   "execution_count": 45,
   "metadata": {},
   "outputs": [
    {
     "name": "stdout",
     "output_type": "stream",
     "text": [
      "MySQL connection is closed.\n"
     ]
    }
   ],
   "source": [
    "# Let's close the cursor and the connection\n",
    "if connection.is_connected():\n",
    "    connection.close()\n",
    "    print(\"MySQL connection is closed.\")\n",
    "else:\n",
    "    print(\"Connection is already closed\")"
   ]
  }
 ],
 "metadata": {
  "interpreter": {
   "hash": "31f2aee4e71d21fbe5cf8b01ff0e069b9275f58929596ceb00d14d90e3e16cd6"
  },
  "kernelspec": {
   "display_name": "Python 3.8.10 64-bit",
   "name": "python3"
  },
  "language_info": {
   "codemirror_mode": {
    "name": "ipython",
    "version": 3
   },
   "file_extension": ".py",
   "mimetype": "text/x-python",
   "name": "python",
   "nbconvert_exporter": "python",
   "pygments_lexer": "ipython3",
   "version": "3.8.10"
  }
 },
 "nbformat": 4,
 "nbformat_minor": 4
}
